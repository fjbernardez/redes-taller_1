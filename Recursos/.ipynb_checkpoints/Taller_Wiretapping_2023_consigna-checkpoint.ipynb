{
 "cells": [
  {
   "cell_type": "code",
   "execution_count": 1,
   "id": "50289afc",
   "metadata": {
    "id": "50289afc"
   },
   "outputs": [
    {
     "name": "stdout",
     "output_type": "stream",
     "text": [
      "/usr/bin/pip:6: DeprecationWarning: pkg_resources is deprecated as an API. See https://setuptools.pypa.io/en/latest/pkg_resources.html\n",
      "  from pkg_resources import load_entry_point\n",
      "Collecting scapy\n",
      "  Downloading scapy-2.5.0.tar.gz (1.3 MB)\n",
      "\u001b[K     |████████████████████████████████| 1.3 MB 9.9 MB/s eta 0:00:01\n",
      "\u001b[?25hBuilding wheels for collected packages: scapy\n",
      "  Building wheel for scapy (setup.py) ... \u001b[?25ldone\n",
      "\u001b[?25h  Created wheel for scapy: filename=scapy-2.5.0-py2.py3-none-any.whl size=1444325 sha256=90036b35ee34c94b5da416b6778492213f9ee8eaacf9c857cb62cf86f26fada5\n",
      "  Stored in directory: /home/clinux01/.cache/pip/wheels/98/ea/08/164e840ab2c83b892bf8b193ce9d92d029dc3e5f2b75319953\n",
      "Successfully built scapy\n",
      "Installing collected packages: scapy\n",
      "Successfully installed scapy-2.5.0\n"
     ]
    }
   ],
   "source": [
    "!pip install scapy\n",
    "from scapy.all import *"
   ]
  },
  {
   "cell_type": "markdown",
   "id": "60ca3318",
   "metadata": {
    "id": "60ca3318"
   },
   "source": [
    "## Bienvenidxs al taller de Wiretapping 2023."
   ]
  },
  {
   "cell_type": "markdown",
   "id": "90a32ee7",
   "metadata": {
    "id": "90a32ee7"
   },
   "source": [
    "A lo largo del taller van a poder probar los diferentes comandos que nos provee la librería Scapy. El objetivo es que al finalizar el taller tengan el código necesario para poder hacer los experimentos y el informe."
   ]
  },
  {
   "cell_type": "markdown",
   "id": "a4c3f4fa",
   "metadata": {
    "id": "a4c3f4fa"
   },
   "source": [
    "# Jupyter Notebook"
   ]
  },
  {
   "cell_type": "markdown",
   "id": "3c442614",
   "metadata": {
    "id": "3c442614"
   },
   "source": [
    "Para empezar, vamos a utilizar un notebook de Jupyter, una herramienta para correr Python **muy** recomendada, donde pueden escribir y correr código Python. Cada sección donde hay código se le llama **celda** (Cell, en inglés).\n",
    "- Para ejecutar el código que hay dentro de una celda se utiliza `Cntrl + Enter`."
   ]
  },
  {
   "cell_type": "markdown",
   "id": "994c367a",
   "metadata": {
    "id": "994c367a"
   },
   "source": [
    "# Scapy\n",
    "* Es una librería de Python.\n",
    "* Es muy útil para:\n",
    "    * Crear paquetes de red.\n",
    "    * Decodificar paquetes.\n",
    "    * Capturar.\n",
    "    * Enviar y recibir paquetes (próximo taller, stay tuned).\n",
    "    \n",
    "Documentación (**recomendada**): https://scapy.readthedocs.io/en/latest/    \n",
    "Para saber más:    "
   ]
  },
  {
   "cell_type": "markdown",
   "id": "60a9c789",
   "metadata": {
    "id": "60a9c789"
   },
   "source": [
    "## Ej. 1: Utilizando Scapy ver cómo es el formato del paquete Ether y ARP\n",
    "1. `ls()` para ver todos los tipos de paquetes que reconoce Scapy.\n",
    "2. `ls(PROTOCOLO)` si reemplazamos PROTOCOLO por algún protocolo (ej: IP, ETHER) podremos ver el formato del paquete. Probar ls(IP) o ls(Ether)"
   ]
  },
  {
   "cell_type": "code",
   "execution_count": 66,
   "id": "1ec9a9c1",
   "metadata": {
    "id": "1ec9a9c1"
   },
   "outputs": [
    {
     "data": {
      "text/plain": [
       "36864"
      ]
     },
     "execution_count": 66,
     "metadata": {},
     "output_type": "execute_result"
    }
   ],
   "source": [
    "Ether().type"
   ]
  },
  {
   "cell_type": "markdown",
   "id": "a5e9d195",
   "metadata": {
    "id": "a5e9d195"
   },
   "source": [
    "## Ej. 2: Crear un paquete, codificarlo y decodificarlo.\n",
    "\n",
    "En el siguiente ejercicio tendremos que asignar a una variable un paquete de Ethernet (consultar en la documentación), convertirlo a bytes (recuerden que los símbolos que recibe la interfaz de red no son más que bits que luego son interpretados) para luego reconvertirlo a un paquete legible.\n",
    "\n",
    "*Hint:\n",
    "Para ver en formato bytes utilizamos `raw(FRAME)`, para ver en un formato más amigable `hexdump(FRAME)`. Luego para reconstruirlo podremos hacer `Ether(formato_en_bytes)`.*"
   ]
  },
  {
   "cell_type": "code",
   "execution_count": 48,
   "id": "016f5012",
   "metadata": {
    "id": "016f5012"
   },
   "outputs": [
    {
     "name": "stdout",
     "output_type": "stream",
     "text": [
      "src:aa:bb:cc:dd:aa:bb - dst:aa:bb:cc:dd:aa:bb - type:36864\n"
     ]
    }
   ],
   "source": [
    "# p = IP(raw(IP()))\n",
    "pEthernetBytes = raw(Ether(dst=\"aa:bb:cc:dd:aa:bb:cc:dd\"))\n",
    "pEthernet = Ether(pEthernetBytes)\n",
    "pEthernet_dst = pEthernet.dst\n",
    "pEthernet_src = pEthernet.src\n",
    "pEthernet_type = pEthernet.type\n",
    "print(f'src:{pEthernet_dst} - dst:{pEthernet_dst} - type:{pEthernet_type}')\n"
   ]
  },
  {
   "cell_type": "markdown",
   "id": "de90ff07",
   "metadata": {
    "id": "de90ff07"
   },
   "source": [
    "## Ej. 3: Inspeccionando frames"
   ]
  },
  {
   "cell_type": "markdown",
   "id": "9d969e7f",
   "metadata": {
    "id": "9d969e7f"
   },
   "source": [
    "### Ej. 3.1: Dado un paquete Ethernet , imprimir con la función print(), su destino (dst), fuente (src) y número de protocolo superior (type)"
   ]
  },
  {
   "cell_type": "code",
   "execution_count": 67,
   "id": "ac83a450",
   "metadata": {
    "id": "ac83a450"
   },
   "outputs": [
    {
     "name": "stderr",
     "output_type": "stream",
     "text": [
      "WARNING: getmacbyip failed on [Errno 1] Operation not permitted\n",
      "WARNING: Mac address to reach destination not found. Using broadcast.\n"
     ]
    },
    {
     "name": "stdout",
     "output_type": "stream",
     "text": [
      "IP / TCP 10.41.103.11:ftp_data > Net(\"www.dc.uba.ar/32\"):http S / Raw\n",
      "Ether-src: 00:d8:61:7a:1e:af\n",
      "Ether-dst: ff:ff:ff:ff:ff:ff\n",
      "Ether-type: 2048\n"
     ]
    }
   ],
   "source": [
    "# Los protocolos separados por \"/\" significa que estoy encapsulando uno dentro del otro\n",
    "\n",
    "frame = Ether()/IP(dst=\"www.dc.uba.ar\")/TCP()/\"GET /index.html HTTP/1.0 \\n\\n\"\n",
    "print(frame[IP]) # Observar que la manera de acceder a un protocolo encapsulado es de la manera frame[PROTOCOLO].\n",
    "\n",
    "print(f'Ether-src: {frame[Ether].src}')\n",
    "print(f'Ether-dst: {frame[Ether].dst}')\n",
    "print(f'Ether-type: {frame[Ether].type}')"
   ]
  },
  {
   "cell_type": "markdown",
   "id": "9aa8c442",
   "metadata": {
    "id": "9aa8c442"
   },
   "source": [
    "### Ej 3.2: Dado una lista de paquetes, filtrar por protocol."
   ]
  },
  {
   "cell_type": "markdown",
   "id": "5088bf99",
   "metadata": {
    "id": "5088bf99"
   },
   "source": [
    "PCAP (Package CAPture) es un formato muy utilizado para capturar tráfico de la red. Al utilizar Sniffers como Wireshark, podremos exportar el dump en formato `pcap` y consumirlo desde Scapy. Lo que devuelve `rdpcap` es una lista de frames la cual puede iterarse como cualquier lista.\n",
    "\n",
    "Como vimos en el ejercicio 3.1 uno puede dado un paquete, pedir su destino, fuente e incluso el tipo (*layer*) de protocolo.\n",
    "\n",
    "* Los paquetes de Scapy proveen la función `haslayer(layer)`. Esto devuelve un booleano si dentro del paquete se encuentra el `layer`. Si a un paquete `pkt = Ether()` le pedimos `pkt.haslayer(IP)` devuelve falso. Incluso, los paquetes permiten indexar por protocolo.\n",
    "\n",
    "\n",
    "* Podremos pedirle al paquete **pkt** `pkt[IP]` y devolverá únicamente el paquete IP y lo que este encapsula. Tener en cuenta que `pkt[IP].dst` nos devolverá un resultado distinto que `pkt[Ether].dst`.\n",
    "\n",
    "\n",
    "Para este ejercicio:\n",
    "\n",
    "- Contar cuantos paquetes contienen a la capa Ethernet.\n",
    "- Contar cuantas direcciones destino distintas de capa 2 hay.\n",
    "- Enumerar los distintos tipos de protocolos que encapsula la capa 2."
   ]
  },
  {
   "cell_type": "code",
   "execution_count": 97,
   "id": "e73a79b2",
   "metadata": {
    "id": "e73a79b2"
   },
   "outputs": [
    {
     "name": "stdout",
     "output_type": "stream",
     "text": [
      "#pkg_Ethernet_total: 97\n",
      "#pkg_Ethernet_src: 99\n",
      "#pkg_Ethernet_type: 0\n"
     ]
    }
   ],
   "source": [
    "dump_de_frames =rdpcap(\"/home/clinux01/Documentos/redes/redes-taller_1/Recursos/dump_prueba.pcap\")\n",
    "\n",
    "pCounterEther = 0\n",
    "pCounterEtherListDst = []\n",
    "pCounterEtherListType = []\n",
    "\n",
    "# len([pkt for pkt in dump_de_frames if pkt.haslayer(Ether)])\n",
    "\n",
    "    # if num not in mi_jugada:\n",
    "    #     mi_jugada.append(num)\n",
    "    #     x += 1\n",
    "\n",
    "for p in dump_de_frames:\n",
    "    if(p.haslayer(Ether)):\n",
    "        pCounterEther+=1\n",
    "        if(p.src not in pCounterEtherListDst):\n",
    "            pCounterEtherListDst.append(p.src)\n",
    "        \n",
    "        if(p.type not in pCounterEtherListType):\n",
    "            pCounterEtherListDst.append(p.type)\n",
    "\n",
    "# show results\n",
    "print(f'#pkg_Ethernet_total: {pCounterEther}')\n",
    "print(f'#pkg_Ethernet_src: {len(pCounterEtherListDst)}')\n",
    "print(f'#pkg_Ethernet_type: {len(pCounterEtherListType)}')"
   ]
  },
  {
   "cell_type": "markdown",
   "id": "0367652c",
   "metadata": {
    "id": "0367652c"
   },
   "source": [
    "## Ej. 4: Sniffing"
   ]
  },
  {
   "cell_type": "markdown",
   "id": "3d1742e2",
   "metadata": {
    "id": "3d1742e2"
   },
   "source": [
    "Scapy es una herramienta que además de permitir inspeccionar paquetes, permite hacer lo mismo que Wireshark desde el mismo código. De esta manera podremos capturar paquetes e inspeccionarlos sin salir de nuestro programa de Python.\n",
    "\n",
    "Veamos que hace la herramienta `sniff`."
   ]
  },
  {
   "cell_type": "code",
   "execution_count": null,
   "id": "584e68a9",
   "metadata": {
    "id": "584e68a9"
   },
   "outputs": [],
   "source": [
    "help(sniff)"
   ]
  },
  {
   "cell_type": "markdown",
   "id": "29adbf08",
   "metadata": {
    "id": "29adbf08"
   },
   "source": [
    "### Ej 4.1: Contar Broadcast & Unicast\n",
    "\n",
    "Utilizando la función `sniff(count=10)`, por cada paquete nuevo, que se invoque a una segunda función implementada por nosotrxs y que cuente para aquellos paquetes de la capa Ethernet, cuántos son de Broadcast (`dst=ff:ff:ff:ff:ff:ff`) y cuántos Unicast."
   ]
  },
  {
   "cell_type": "code",
   "execution_count": null,
   "id": "99c36a3e",
   "metadata": {
    "id": "99c36a3e"
   },
   "outputs": [],
   "source": [
    "def funcion():\n",
    "#     Renombrar función\n",
    "#     print(algo)"
   ]
  },
  {
   "cell_type": "markdown",
   "id": "2337a018",
   "metadata": {
    "id": "2337a018"
   },
   "source": [
    "### Ej 4.2 Contar protocolos de la capa superior"
   ]
  },
  {
   "cell_type": "markdown",
   "id": "1b642deb",
   "metadata": {
    "id": "1b642deb"
   },
   "source": [
    "Además utilizando el campo `type` del paquete de Ethernet, mostrar qué protocolos de la capa superior inmediata aparecen y cuántos por cada uno."
   ]
  },
  {
   "cell_type": "code",
   "execution_count": null,
   "id": "fb0cf286",
   "metadata": {
    "id": "fb0cf286"
   },
   "outputs": [],
   "source": []
  },
  {
   "cell_type": "markdown",
   "id": "c1aa294e",
   "metadata": {
    "id": "c1aa294e"
   },
   "source": [
    "# Trabajo práctico"
   ]
  },
  {
   "cell_type": "markdown",
   "id": "cb2da377",
   "metadata": {
    "id": "cb2da377"
   },
   "source": [
    "Sean p1..pn las tramas de capa 2 que se capturan en una red local. Se pueden modelar las tramas capturadas como una fuente de información de memoria nula S<sub>1</sub> = {s<sub>1</sub>, s<sub>2</sub>, ..., s<sub>q</sub>}, donde cada si está formado por la combinación entre el tipo de destino de la trama (Unicast o Broadcast) y el protocolo de la capa inmediata superior encapsulado en la misma. Por ejemplo, s<sub>i</sub> = < Broadcast, ARP >.\n",
    "\n",
    "A continuación se presenta un código Python de ejemplo para capturar de paquetes y calcula las probabilidades de cada uno de los símbolos de la fuente de información S1 en una red con la que tenemos conexión."
   ]
  },
  {
   "cell_type": "code",
   "execution_count": null,
   "id": "3a09685e",
   "metadata": {
    "id": "3a09685e",
    "tags": [
     "hide-input"
    ]
   },
   "outputs": [],
   "source": [
    "S1 = {}\n",
    "def mostrar_fuente(S):\n",
    "    N = sum(S.values())\n",
    "    simbolos = sorted(S.items(), key=lambda x: -x[1])\n",
    "    print(\"\\n\".join([ \" %s : %.5f\" % (d,k/N) for d,k in simbolos ]))\n",
    "    print()\n",
    "def callback(pkt):\n",
    "    if pkt.haslayer(Ether):\n",
    "        dire = \"BROADCAST\" if pkt[Ether].dst==\"ff:ff:ff:ff:ff:ff\" else \"UNICAST\"\n",
    "        proto = pkt[Ether].type # El campo type del frame tiene el protocolo\n",
    "        s_i = (dire, proto) # Aca se define el simbolo de la fuente\n",
    "        if s_i not in S1:\n",
    "            S1[s_i] = 0.0\n",
    "        S1[s_i] += 1.0\n",
    "    mostrar_fuente(S1)\n",
    "\n",
    "sniff(prn=callback)"
   ]
  },
  {
   "cell_type": "markdown",
   "id": "de141510",
   "metadata": {
    "id": "de141510"
   },
   "source": [
    "En dicha salida se muestran los símbolos de la fuente de información S1 y sus respectivas probabilidades.\n",
    "Cada símbolo es una tupla que indica si se trata de paquetes **Broadcast** o **Unicast** y el **protocolo de capa\n",
    "superior** al que corresponde cada paquete capturado. Por ejemplo, 2048 es IP, de los que se capturaron sólo\n",
    "paquete Broadcast, 2054 es ARP para los cuales hay tanto Broadcast como Unicast, etc.\n",
    "\n",
    "Probar la captura de paquetes usando el código presentado anteriormente, que captura tráfico en una red local y muestra representativamente la fuente modelada S1.\n",
    "\n",
    "La salida consiste en una tabla que muestra la probabilidad de cada símbolo de la fuente. Luego, extender el código para que calcule la información de cada símbolo y la entropía de la fuente. Finalmente, realizar una captura de tráfico utilizando el código extendido anteriormente. La captura deben ser lo más extensa posibles (por ejemplo de más de 10.000 tramas)."
   ]
  },
  {
   "cell_type": "markdown",
   "id": "c65e57e3",
   "metadata": {
    "id": "c65e57e3"
   },
   "source": [
    "### Info util para Python\n",
    "\n",
    "Si utilizamos un editor de texto, luego para correr el archivo corremos en la terminal\n",
    "```\n",
    "$python3 archivo.py\n",
    "```\n",
    "\n",
    "Si queremos declarar funciones y luego usarlas en un main, debemos declarar la función main de la siguiente manera:\n",
    "    \n",
    "```\n",
    "def main() -> int:\n",
    "    phrase = \"hola\"\n",
    "    echo(phrase)\n",
    "    return 0\n",
    "\n",
    "if __name__ == '__main__':\n",
    "    main()\n",
    "```\n",
    "\n",
    "También se puede usar Jupyter Notebook."
   ]
  },
  {
   "cell_type": "code",
   "execution_count": null,
   "id": "5c4024f5",
   "metadata": {
    "id": "5c4024f5"
   },
   "outputs": [],
   "source": [
    "sniff()"
   ]
  },
  {
   "cell_type": "code",
   "execution_count": null,
   "id": "STSgwsixxqd8",
   "metadata": {
    "id": "STSgwsixxqd8"
   },
   "outputs": [],
   "source": [
    "lsc()"
   ]
  }
 ],
 "metadata": {
  "colab": {
   "provenance": []
  },
  "kernelspec": {
   "display_name": "Python 3",
   "language": "python",
   "name": "python3"
  },
  "language_info": {
   "codemirror_mode": {
    "name": "ipython",
    "version": 3
   },
   "file_extension": ".py",
   "mimetype": "text/x-python",
   "name": "python",
   "nbconvert_exporter": "python",
   "pygments_lexer": "ipython3",
   "version": "3.8.10"
  }
 },
 "nbformat": 4,
 "nbformat_minor": 5
}
